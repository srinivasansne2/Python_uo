{
 "cells": [
  {
   "cell_type": "code",
   "execution_count": 5,
   "id": "176729f6",
   "metadata": {},
   "outputs": [],
   "source": [
    "import cv2\n",
    "img=cv2.imread(r\"c:\\Try.png\")\n",
    "RGB=cv2.cvtColor(img,cv2.COLOR_BGR2RGB)\n",
    "#Si=cv2.resizeWindow(\"output\",400,300)\n",
    "cv2.imshow(\"output\",RGB)\n",
    "cv2.waitKey(0)\n",
    "cv2.destroyAllWindows()"
   ]
  },
  {
   "cell_type": "code",
   "execution_count": 6,
   "id": "5426795d",
   "metadata": {},
   "outputs": [
    {
     "name": "stdout",
     "output_type": "stream",
     "text": [
      "(768, 1366, 3)\n"
     ]
    }
   ],
   "source": [
    "print(img.shape)"
   ]
  },
  {
   "cell_type": "code",
   "execution_count": 7,
   "id": "47bc41f4",
   "metadata": {},
   "outputs": [
    {
     "name": "stdout",
     "output_type": "stream",
     "text": [
      "[[[255 255 255]\n",
      "  [255 255 255]\n",
      "  [255 255 255]\n",
      "  ...\n",
      "  [255 255 255]\n",
      "  [255 255 255]\n",
      "  [255 255 255]]\n",
      "\n",
      " [[255 255 255]\n",
      "  [255 255 255]\n",
      "  [255 255 255]\n",
      "  ...\n",
      "  [255 255 255]\n",
      "  [255 255 255]\n",
      "  [255 255 255]]\n",
      "\n",
      " [[255 255 255]\n",
      "  [255 255 255]\n",
      "  [255 255 255]\n",
      "  ...\n",
      "  [255 255 255]\n",
      "  [255 255 255]\n",
      "  [255 255 255]]\n",
      "\n",
      " ...\n",
      "\n",
      " [[ 60  60  60]\n",
      "  [ 56  56  56]\n",
      "  [ 57  57  57]\n",
      "  ...\n",
      "  [ 36  42  45]\n",
      "  [ 38  43  46]\n",
      "  [ 38  43  46]]\n",
      "\n",
      " [[ 57  57  57]\n",
      "  [ 56  56  56]\n",
      "  [ 57  57  57]\n",
      "  ...\n",
      "  [ 36  42  45]\n",
      "  [ 38  43  46]\n",
      "  [ 38  43  46]]\n",
      "\n",
      " [[ 57  57  57]\n",
      "  [ 57  57  57]\n",
      "  [ 56  56  56]\n",
      "  ...\n",
      "  [ 36  42  45]\n",
      "  [ 35  41  44]\n",
      "  [ 38  43  46]]]\n"
     ]
    }
   ],
   "source": [
    "print(img)"
   ]
  },
  {
   "cell_type": "code",
   "execution_count": 13,
   "id": "565962b8",
   "metadata": {},
   "outputs": [
    {
     "name": "stdout",
     "output_type": "stream",
     "text": [
      "[130  45  29]\n"
     ]
    }
   ],
   "source": [
    "print(img[9][8])"
   ]
  },
  {
   "cell_type": "code",
   "execution_count": 14,
   "id": "ab9a92d7",
   "metadata": {},
   "outputs": [
    {
     "name": "stdout",
     "output_type": "stream",
     "text": [
      "Image= (768, 1366, 3)\n"
     ]
    }
   ],
   "source": [
    "print(\"Image=\",img.shape)"
   ]
  },
  {
   "cell_type": "code",
   "execution_count": null,
   "id": "76772d5b",
   "metadata": {},
   "outputs": [],
   "source": []
  }
 ],
 "metadata": {
  "kernelspec": {
   "display_name": "Python 3 (ipykernel)",
   "language": "python",
   "name": "python3"
  },
  "language_info": {
   "codemirror_mode": {
    "name": "ipython",
    "version": 3
   },
   "file_extension": ".py",
   "mimetype": "text/x-python",
   "name": "python",
   "nbconvert_exporter": "python",
   "pygments_lexer": "ipython3",
   "version": "3.9.12"
  }
 },
 "nbformat": 4,
 "nbformat_minor": 5
}
