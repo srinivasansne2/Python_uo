{
 "cells": [
  {
   "cell_type": "code",
   "execution_count": 8,
   "id": "5cea6d38",
   "metadata": {},
   "outputs": [],
   "source": [
    "import cv2\n",
    "import numpy as np\n",
    "import matplotlib.pyplot as plt"
   ]
  },
  {
   "cell_type": "code",
   "execution_count": 9,
   "id": "d7b4fe72",
   "metadata": {},
   "outputs": [],
   "source": [
    "img=cv2.imread(r\"c:\\Bir.jpg\")"
   ]
  },
  {
   "cell_type": "code",
   "execution_count": 10,
   "id": "4bd4a1a7",
   "metadata": {},
   "outputs": [
    {
     "name": "stdout",
     "output_type": "stream",
     "text": [
      "(177, 284, 3)\n"
     ]
    }
   ],
   "source": [
    "print(img.shape)"
   ]
  },
  {
   "cell_type": "markdown",
   "id": "a7378fd0",
   "metadata": {},
   "source": [
    "# Converting to Grayscale"
   ]
  },
  {
   "cell_type": "code",
   "execution_count": null,
   "id": "66da6377",
   "metadata": {},
   "outputs": [],
   "source": [
    "gray=cv2.cvtColor(img,cv2.COLOR_BGR2GRAY)"
   ]
  },
  {
   "cell_type": "code",
   "execution_count": null,
   "id": "7cf0f660",
   "metadata": {},
   "outputs": [],
   "source": [
    "print(gray)"
   ]
  },
  {
   "cell_type": "code",
   "execution_count": null,
   "id": "62310b5a",
   "metadata": {},
   "outputs": [],
   "source": [
    "print(gray.shape)"
   ]
  },
  {
   "cell_type": "code",
   "execution_count": null,
   "id": "781728be",
   "metadata": {},
   "outputs": [],
   "source": [
    "cv2.imshow(\"Original\",img)\n",
    "cv2.imshow(\"Grayscale\",gray)\n",
    "cv2.waitKey(0)\n",
    "cv2.destroyAllWindows()"
   ]
  },
  {
   "cell_type": "markdown",
   "id": "f0879adb",
   "metadata": {},
   "source": [
    "# Converting RGB Format"
   ]
  },
  {
   "cell_type": "code",
   "execution_count": 4,
   "id": "f877d8fd",
   "metadata": {},
   "outputs": [],
   "source": [
    "RGB=cv2.cvtColor(img,cv2.COLOR_BGR2RGB)"
   ]
  },
  {
   "cell_type": "code",
   "execution_count": 5,
   "id": "45c3dfc7",
   "metadata": {},
   "outputs": [
    {
     "name": "stdout",
     "output_type": "stream",
     "text": [
      "[[[196 189  98]\n",
      "  [193 188  96]\n",
      "  [187 187  97]\n",
      "  ...\n",
      "  [ 82 110  23]\n",
      "  [ 79 101  18]\n",
      "  [ 75  93  11]]\n",
      "\n",
      " [[196 189  98]\n",
      "  [194 189  98]\n",
      "  [188 188  98]\n",
      "  ...\n",
      "  [ 92 122  34]\n",
      "  [ 91 113  30]\n",
      "  [ 89 107  25]]\n",
      "\n",
      " [[194 189  98]\n",
      "  [193 189  98]\n",
      "  [190 190 100]\n",
      "  ...\n",
      "  [ 97 127  39]\n",
      "  [ 98 120  35]\n",
      "  [ 96 116  31]]\n",
      "\n",
      " ...\n",
      "\n",
      " [[ 81 167   8]\n",
      "  [100 186  27]\n",
      "  [ 92 179  22]\n",
      "  ...\n",
      "  [135  89  29]\n",
      "  [111  92  36]\n",
      "  [ 98  92  40]]\n",
      "\n",
      " [[ 93 181  21]\n",
      "  [101 189  29]\n",
      "  [ 77 164   7]\n",
      "  ...\n",
      "  [136  90  28]\n",
      "  [113  94  36]\n",
      "  [ 99  94  38]]\n",
      "\n",
      " [[ 89 180  17]\n",
      "  [ 86 176  16]\n",
      "  [ 78 168  11]\n",
      "  ...\n",
      "  [135  92  24]\n",
      "  [106  88  24]\n",
      "  [ 98  92  30]]]\n"
     ]
    }
   ],
   "source": [
    "print(RGB)"
   ]
  },
  {
   "cell_type": "code",
   "execution_count": 6,
   "id": "7e50c122",
   "metadata": {},
   "outputs": [
    {
     "name": "stdout",
     "output_type": "stream",
     "text": [
      "(177, 284, 3)\n"
     ]
    }
   ],
   "source": [
    "print(RGB.shape)"
   ]
  },
  {
   "cell_type": "code",
   "execution_count": 7,
   "id": "b1189de9",
   "metadata": {},
   "outputs": [],
   "source": [
    "cv2.imshow(\"Original\",img)\n",
    "cv2.imshow(\"RGB\",RGB)\n",
    "cv2.waitKey(0)\n",
    "cv2.destroyAllWindows()"
   ]
  },
  {
   "cell_type": "markdown",
   "id": "e310a86a",
   "metadata": {},
   "source": [
    "# Color Channel Splitting"
   ]
  },
  {
   "cell_type": "code",
   "execution_count": 15,
   "id": "53ddb1e8",
   "metadata": {},
   "outputs": [],
   "source": [
    "(R,G,B)=cv2.split(RGB)"
   ]
  },
  {
   "cell_type": "code",
   "execution_count": 16,
   "id": "1e5ae512",
   "metadata": {},
   "outputs": [],
   "source": [
    "cv2.namedWindow(\"Blue\",cv2.WINDOW_NORMAL)\n",
    "cv2.namedWindow(\"Green\",cv2.WINDOW_NORMAL)\n",
    "cv2.namedWindow(\"Red\",cv2.WINDOW_NORMAL)"
   ]
  },
  {
   "cell_type": "code",
   "execution_count": 17,
   "id": "d6c13759",
   "metadata": {},
   "outputs": [],
   "source": [
    "cv2.imshow(\"Blue\",B)\n",
    "cv2.imshow(\"Green\",G)\n",
    "cv2.imshow(\"Red\",R)"
   ]
  },
  {
   "cell_type": "code",
   "execution_count": 18,
   "id": "3db2bbb2",
   "metadata": {},
   "outputs": [],
   "source": [
    "cv2.waitKey(0)\n",
    "cv2.destroyAllWindows()"
   ]
  },
  {
   "cell_type": "code",
   "execution_count": null,
   "id": "a4c8d6af",
   "metadata": {},
   "outputs": [],
   "source": []
  }
 ],
 "metadata": {
  "kernelspec": {
   "display_name": "Python 3 (ipykernel)",
   "language": "python",
   "name": "python3"
  },
  "language_info": {
   "codemirror_mode": {
    "name": "ipython",
    "version": 3
   },
   "file_extension": ".py",
   "mimetype": "text/x-python",
   "name": "python",
   "nbconvert_exporter": "python",
   "pygments_lexer": "ipython3",
   "version": "3.9.12"
  }
 },
 "nbformat": 4,
 "nbformat_minor": 5
}
