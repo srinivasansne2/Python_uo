{
 "cells": [
  {
   "cell_type": "code",
   "execution_count": 1,
   "id": "6e9e73c7",
   "metadata": {},
   "outputs": [
    {
     "name": "stdout",
     "output_type": "stream",
     "text": [
      "Enter Your Text :hi guys it work\n"
     ]
    }
   ],
   "source": [
    "#pip install pyttsx3\n",
    "import pyttsx3 as p3\n",
    "\n",
    "from pyttsx3 import engine\n",
    "\n",
    "#Creating Voice Engine\n",
    "engine=p3.init()\n",
    "\n",
    "#For Changing Voice\n",
    "voices=engine.getProperty(\"voices\")\n",
    "voice=engine.setProperty(\"voice\",voices[0].id)\n",
    "\n",
    "text=input(\"Enter Your Text :\")\n",
    "\n",
    "def speek(text):\n",
    "    engine.say(text) #to speek\n",
    "    engine.runAndWait()\n",
    "speek(text)"
   ]
  },
  {
   "cell_type": "code",
   "execution_count": null,
   "id": "78f47f55",
   "metadata": {},
   "outputs": [],
   "source": [
    "#pip install PyAudio\n",
    "#pip install SpeechRecognition\n",
    "import speech_recognition as sr\n",
    "\n",
    "def querry():\n",
    "    rec=sr.Recognizer()\n",
    "    with sr.Microphone(device_index=11) as source:\n",
    "        audio=rec.listen(source)\n",
    "        text=rec.recognize_google(audio)\n",
    "    return(text)\n",
    "print (querry().lower())\n",
    "\n",
    "\"\"\"\n",
    "#Checking Available Mic\n",
    "import speech_recognition as sr\n",
    "\n",
    "for index, name in enumerate(sr.Microphone.list_microphone_names()):\n",
    "    print(f'{index}, {name}')\n",
    "    \n",
    "\"\"\""
   ]
  },
  {
   "cell_type": "code",
   "execution_count": null,
   "id": "cc3ec2ec",
   "metadata": {},
   "outputs": [],
   "source": []
  },
  {
   "cell_type": "code",
   "execution_count": null,
   "id": "b4e1db8a",
   "metadata": {},
   "outputs": [],
   "source": []
  }
 ],
 "metadata": {
  "kernelspec": {
   "display_name": "Python 3 (ipykernel)",
   "language": "python",
   "name": "python3"
  },
  "language_info": {
   "codemirror_mode": {
    "name": "ipython",
    "version": 3
   },
   "file_extension": ".py",
   "mimetype": "text/x-python",
   "name": "python",
   "nbconvert_exporter": "python",
   "pygments_lexer": "ipython3",
   "version": "3.9.12"
  }
 },
 "nbformat": 4,
 "nbformat_minor": 5
}
